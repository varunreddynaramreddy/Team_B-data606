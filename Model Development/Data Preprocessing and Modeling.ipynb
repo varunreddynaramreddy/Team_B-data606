{
 "cells": [
  {
   "cell_type": "code",
   "execution_count": 1,
   "id": "2c881c70",
   "metadata": {
    "ExecuteTime": {
     "end_time": "2022-08-13T11:04:24.425133Z",
     "start_time": "2022-08-13T11:03:51.785952Z"
    }
   },
   "outputs": [],
   "source": [
    "import pandas as pd\n",
    "import numpy as np\n",
    "import matplotlib.pyplot as plt\n",
    "from sklearn.model_selection import train_test_split\n",
    "from sklearn.metrics import classification_report\n",
    "from sklearn.metrics import f1_score, make_scorer\n",
    "import pickle\n",
    "\n",
    "### Sklearn model import\n",
    "from sklearn.ensemble import RandomForestClassifier\n",
    "from sklearn.model_selection import GridSearchCV\n",
    "from sklearn.tree import DecisionTreeClassifier\n",
    "import xgboost as xgb\n",
    "from sklearn.linear_model import LogisticRegression\n",
    "from sklearn import svm\n",
    "from sklearn.ensemble import AdaBoostClassifier\n",
    "\n",
    "### Class imbalance\n",
    "from imblearn.over_sampling import RandomOverSampler\n",
    "\n",
    "## Model performance metrics\n",
    "from sklearn.metrics import roc_curve\n",
    "from sklearn.metrics import roc_auc_score\n",
    "\n",
    "## Plotting\n",
    "from matplotlib import pyplot\n",
    "import matplotlib.pyplot as plt"
   ]
  },
  {
   "cell_type": "code",
   "execution_count": 2,
   "id": "7ae1220a",
   "metadata": {
    "ExecuteTime": {
     "end_time": "2022-08-13T11:04:24.709003Z",
     "start_time": "2022-08-13T11:04:24.435227Z"
    }
   },
   "outputs": [],
   "source": [
    "rawData = pd.read_csv('../data/bank-full.csv', sep = ';')"
   ]
  },
  {
   "cell_type": "code",
   "execution_count": 3,
   "id": "a3108471",
   "metadata": {
    "ExecuteTime": {
     "end_time": "2022-08-13T11:04:24.718173Z",
     "start_time": "2022-08-13T11:04:24.709003Z"
    }
   },
   "outputs": [],
   "source": [
    "fScore = make_scorer(f1_score)"
   ]
  },
  {
   "cell_type": "markdown",
   "id": "933e873f",
   "metadata": {},
   "source": [
    "### Dummy coding categorical variables"
   ]
  },
  {
   "cell_type": "code",
   "execution_count": 4,
   "id": "6e4f8d62",
   "metadata": {
    "ExecuteTime": {
     "end_time": "2022-08-13T11:04:24.765176Z",
     "start_time": "2022-08-13T11:04:24.720198Z"
    }
   },
   "outputs": [
    {
     "data": {
      "text/plain": [
       "Index(['job', 'marital', 'education', 'default', 'housing', 'loan', 'contact',\n",
       "       'month', 'poutcome', 'y'],\n",
       "      dtype='object')"
      ]
     },
     "execution_count": 4,
     "metadata": {},
     "output_type": "execute_result"
    }
   ],
   "source": [
    "rawData.dtypes[rawData.dtypes != np.int64].index"
   ]
  },
  {
   "cell_type": "code",
   "execution_count": 5,
   "id": "2e911df6",
   "metadata": {
    "ExecuteTime": {
     "end_time": "2022-08-13T11:04:24.869589Z",
     "start_time": "2022-08-13T11:04:24.768263Z"
    }
   },
   "outputs": [],
   "source": [
    "#rawData['y'] = pd.to_numeric(rawData['y'], columns = ['job', 'marital', 'education', 'default', 'housing', 'loan', 'contact',\n",
    "#       'month', 'poutcome'])\n",
    "\n",
    "dummyDf = pd.get_dummies(rawData)"
   ]
  },
  {
   "cell_type": "code",
   "execution_count": 6,
   "id": "01f4d81f",
   "metadata": {
    "ExecuteTime": {
     "end_time": "2022-08-13T11:04:24.879777Z",
     "start_time": "2022-08-13T11:04:24.869589Z"
    }
   },
   "outputs": [
    {
     "name": "stdout",
     "output_type": "stream",
     "text": [
      "(45211, 17)\n",
      "(45211, 53)\n"
     ]
    }
   ],
   "source": [
    "print(rawData.shape)\n",
    "print(dummyDf.shape)"
   ]
  },
  {
   "cell_type": "code",
   "execution_count": 7,
   "id": "b5dd5d4f",
   "metadata": {
    "ExecuteTime": {
     "end_time": "2022-08-13T11:04:24.959791Z",
     "start_time": "2022-08-13T11:04:24.882710Z"
    }
   },
   "outputs": [
    {
     "data": {
      "text/html": [
       "<div>\n",
       "<style scoped>\n",
       "    .dataframe tbody tr th:only-of-type {\n",
       "        vertical-align: middle;\n",
       "    }\n",
       "\n",
       "    .dataframe tbody tr th {\n",
       "        vertical-align: top;\n",
       "    }\n",
       "\n",
       "    .dataframe thead th {\n",
       "        text-align: right;\n",
       "    }\n",
       "</style>\n",
       "<table border=\"1\" class=\"dataframe\">\n",
       "  <thead>\n",
       "    <tr style=\"text-align: right;\">\n",
       "      <th></th>\n",
       "      <th>age</th>\n",
       "      <th>balance</th>\n",
       "      <th>day</th>\n",
       "      <th>duration</th>\n",
       "      <th>campaign</th>\n",
       "      <th>pdays</th>\n",
       "      <th>previous</th>\n",
       "      <th>job_admin.</th>\n",
       "      <th>job_blue-collar</th>\n",
       "      <th>job_entrepreneur</th>\n",
       "      <th>...</th>\n",
       "      <th>month_may</th>\n",
       "      <th>month_nov</th>\n",
       "      <th>month_oct</th>\n",
       "      <th>month_sep</th>\n",
       "      <th>poutcome_failure</th>\n",
       "      <th>poutcome_other</th>\n",
       "      <th>poutcome_success</th>\n",
       "      <th>poutcome_unknown</th>\n",
       "      <th>y_no</th>\n",
       "      <th>y_yes</th>\n",
       "    </tr>\n",
       "  </thead>\n",
       "  <tbody>\n",
       "    <tr>\n",
       "      <th>0</th>\n",
       "      <td>58</td>\n",
       "      <td>2143</td>\n",
       "      <td>5</td>\n",
       "      <td>261</td>\n",
       "      <td>1</td>\n",
       "      <td>-1</td>\n",
       "      <td>0</td>\n",
       "      <td>0</td>\n",
       "      <td>0</td>\n",
       "      <td>0</td>\n",
       "      <td>...</td>\n",
       "      <td>1</td>\n",
       "      <td>0</td>\n",
       "      <td>0</td>\n",
       "      <td>0</td>\n",
       "      <td>0</td>\n",
       "      <td>0</td>\n",
       "      <td>0</td>\n",
       "      <td>1</td>\n",
       "      <td>1</td>\n",
       "      <td>0</td>\n",
       "    </tr>\n",
       "    <tr>\n",
       "      <th>1</th>\n",
       "      <td>44</td>\n",
       "      <td>29</td>\n",
       "      <td>5</td>\n",
       "      <td>151</td>\n",
       "      <td>1</td>\n",
       "      <td>-1</td>\n",
       "      <td>0</td>\n",
       "      <td>0</td>\n",
       "      <td>0</td>\n",
       "      <td>0</td>\n",
       "      <td>...</td>\n",
       "      <td>1</td>\n",
       "      <td>0</td>\n",
       "      <td>0</td>\n",
       "      <td>0</td>\n",
       "      <td>0</td>\n",
       "      <td>0</td>\n",
       "      <td>0</td>\n",
       "      <td>1</td>\n",
       "      <td>1</td>\n",
       "      <td>0</td>\n",
       "    </tr>\n",
       "    <tr>\n",
       "      <th>2</th>\n",
       "      <td>33</td>\n",
       "      <td>2</td>\n",
       "      <td>5</td>\n",
       "      <td>76</td>\n",
       "      <td>1</td>\n",
       "      <td>-1</td>\n",
       "      <td>0</td>\n",
       "      <td>0</td>\n",
       "      <td>0</td>\n",
       "      <td>1</td>\n",
       "      <td>...</td>\n",
       "      <td>1</td>\n",
       "      <td>0</td>\n",
       "      <td>0</td>\n",
       "      <td>0</td>\n",
       "      <td>0</td>\n",
       "      <td>0</td>\n",
       "      <td>0</td>\n",
       "      <td>1</td>\n",
       "      <td>1</td>\n",
       "      <td>0</td>\n",
       "    </tr>\n",
       "    <tr>\n",
       "      <th>3</th>\n",
       "      <td>47</td>\n",
       "      <td>1506</td>\n",
       "      <td>5</td>\n",
       "      <td>92</td>\n",
       "      <td>1</td>\n",
       "      <td>-1</td>\n",
       "      <td>0</td>\n",
       "      <td>0</td>\n",
       "      <td>1</td>\n",
       "      <td>0</td>\n",
       "      <td>...</td>\n",
       "      <td>1</td>\n",
       "      <td>0</td>\n",
       "      <td>0</td>\n",
       "      <td>0</td>\n",
       "      <td>0</td>\n",
       "      <td>0</td>\n",
       "      <td>0</td>\n",
       "      <td>1</td>\n",
       "      <td>1</td>\n",
       "      <td>0</td>\n",
       "    </tr>\n",
       "    <tr>\n",
       "      <th>4</th>\n",
       "      <td>33</td>\n",
       "      <td>1</td>\n",
       "      <td>5</td>\n",
       "      <td>198</td>\n",
       "      <td>1</td>\n",
       "      <td>-1</td>\n",
       "      <td>0</td>\n",
       "      <td>0</td>\n",
       "      <td>0</td>\n",
       "      <td>0</td>\n",
       "      <td>...</td>\n",
       "      <td>1</td>\n",
       "      <td>0</td>\n",
       "      <td>0</td>\n",
       "      <td>0</td>\n",
       "      <td>0</td>\n",
       "      <td>0</td>\n",
       "      <td>0</td>\n",
       "      <td>1</td>\n",
       "      <td>1</td>\n",
       "      <td>0</td>\n",
       "    </tr>\n",
       "  </tbody>\n",
       "</table>\n",
       "<p>5 rows × 53 columns</p>\n",
       "</div>"
      ],
      "text/plain": [
       "   age  balance  day  duration  campaign  pdays  previous  job_admin.  \\\n",
       "0   58     2143    5       261         1     -1         0           0   \n",
       "1   44       29    5       151         1     -1         0           0   \n",
       "2   33        2    5        76         1     -1         0           0   \n",
       "3   47     1506    5        92         1     -1         0           0   \n",
       "4   33        1    5       198         1     -1         0           0   \n",
       "\n",
       "   job_blue-collar  job_entrepreneur  ...  month_may  month_nov  month_oct  \\\n",
       "0                0                 0  ...          1          0          0   \n",
       "1                0                 0  ...          1          0          0   \n",
       "2                0                 1  ...          1          0          0   \n",
       "3                1                 0  ...          1          0          0   \n",
       "4                0                 0  ...          1          0          0   \n",
       "\n",
       "   month_sep  poutcome_failure  poutcome_other  poutcome_success  \\\n",
       "0          0                 0               0                 0   \n",
       "1          0                 0               0                 0   \n",
       "2          0                 0               0                 0   \n",
       "3          0                 0               0                 0   \n",
       "4          0                 0               0                 0   \n",
       "\n",
       "   poutcome_unknown  y_no  y_yes  \n",
       "0                 1     1      0  \n",
       "1                 1     1      0  \n",
       "2                 1     1      0  \n",
       "3                 1     1      0  \n",
       "4                 1     1      0  \n",
       "\n",
       "[5 rows x 53 columns]"
      ]
     },
     "execution_count": 7,
     "metadata": {},
     "output_type": "execute_result"
    }
   ],
   "source": [
    "dummyDf.head()"
   ]
  },
  {
   "cell_type": "markdown",
   "id": "a1a29e3e",
   "metadata": {},
   "source": [
    "### Train test split"
   ]
  },
  {
   "cell_type": "code",
   "execution_count": 8,
   "id": "f530830d",
   "metadata": {
    "ExecuteTime": {
     "end_time": "2022-08-13T11:04:24.973735Z",
     "start_time": "2022-08-13T11:04:24.960822Z"
    }
   },
   "outputs": [
    {
     "data": {
      "text/plain": [
       "Index(['age', 'balance', 'day', 'duration', 'campaign', 'pdays', 'previous',\n",
       "       'job_admin.', 'job_blue-collar', 'job_entrepreneur', 'job_housemaid',\n",
       "       'job_management', 'job_retired', 'job_self-employed', 'job_services',\n",
       "       'job_student', 'job_technician', 'job_unemployed', 'job_unknown',\n",
       "       'marital_divorced', 'marital_married', 'marital_single',\n",
       "       'education_primary', 'education_secondary', 'education_tertiary',\n",
       "       'education_unknown', 'default_no', 'default_yes', 'housing_no',\n",
       "       'housing_yes', 'loan_no', 'loan_yes', 'contact_cellular',\n",
       "       'contact_telephone', 'contact_unknown', 'month_apr', 'month_aug',\n",
       "       'month_dec', 'month_feb', 'month_jan', 'month_jul', 'month_jun',\n",
       "       'month_mar', 'month_may', 'month_nov', 'month_oct', 'month_sep',\n",
       "       'poutcome_failure', 'poutcome_other', 'poutcome_success',\n",
       "       'poutcome_unknown', 'y_no', 'y_yes'],\n",
       "      dtype='object')"
      ]
     },
     "execution_count": 8,
     "metadata": {},
     "output_type": "execute_result"
    }
   ],
   "source": [
    "dummyDf.columns"
   ]
  },
  {
   "cell_type": "code",
   "execution_count": 9,
   "id": "06c895d9",
   "metadata": {
    "ExecuteTime": {
     "end_time": "2022-08-13T11:04:25.045409Z",
     "start_time": "2022-08-13T11:04:24.973735Z"
    }
   },
   "outputs": [],
   "source": [
    "## Excluding columns:'contact_unknown', 'month_apr', 'month_aug',\n",
    "##       'month_dec', 'month_feb', 'month_jan', 'month_jul', 'month_jun',\n",
    "##       'month_mar', 'month_may', 'month_nov', 'month_oct', 'month_sep',\n",
    "\n",
    "X_train, X_test, y_train, y_test = train_test_split(dummyDf[['age', 'balance', 'day', 'duration', 'campaign', 'pdays', 'previous',\n",
    "       'job_admin.', 'job_blue-collar', 'job_entrepreneur', 'job_housemaid',\n",
    "       'job_management', 'job_retired', 'job_self-employed', 'job_services',\n",
    "       'job_student', 'job_technician', 'job_unemployed', 'job_unknown',\n",
    "       'marital_divorced', 'marital_married', 'marital_single',\n",
    "       'education_primary', 'education_secondary', 'education_tertiary',\n",
    "       'education_unknown', 'default_no', 'default_yes', 'housing_no',\n",
    "       'housing_yes', 'loan_no', 'loan_yes', 'contact_cellular',\n",
    "       'contact_telephone', \n",
    "       'poutcome_failure', 'poutcome_other', 'poutcome_success',\n",
    "       'poutcome_unknown']], dummyDf['y_yes'], test_size=0.25, random_state=42)"
   ]
  },
  {
   "cell_type": "markdown",
   "id": "185679e1",
   "metadata": {},
   "source": [
    "## Model Building"
   ]
  },
  {
   "cell_type": "markdown",
   "id": "707d75cf",
   "metadata": {},
   "source": [
    "#### Random forest"
   ]
  },
  {
   "cell_type": "code",
   "execution_count": 40,
   "id": "3c0bad0b",
   "metadata": {},
   "outputs": [],
   "source": [
    "import time\n",
    "\n",
    "curr = time.time()"
   ]
  },
  {
   "cell_type": "code",
   "execution_count": 41,
   "id": "7214bfb7",
   "metadata": {},
   "outputs": [
    {
     "name": "stdout",
     "output_type": "stream",
     "text": [
      "**********\n",
      "Train Performance\n",
      "**********\n",
      "              precision    recall  f1-score   support\n",
      "\n",
      "          no       0.95      1.00      0.98     29972\n",
      "         yes       0.98      0.63      0.77      3936\n",
      "\n",
      "    accuracy                           0.96     33908\n",
      "   macro avg       0.97      0.81      0.87     33908\n",
      "weighted avg       0.96      0.96      0.95     33908\n",
      "\n",
      "**********\n",
      "Test Performance\n",
      "**********\n",
      "              precision    recall  f1-score   support\n",
      "\n",
      "          no       0.91      0.98      0.94      9950\n",
      "         yes       0.66      0.32      0.43      1353\n",
      "\n",
      "    accuracy                           0.90     11303\n",
      "   macro avg       0.79      0.65      0.69     11303\n",
      "weighted avg       0.88      0.90      0.88     11303\n",
      "\n"
     ]
    }
   ],
   "source": [
    "from sklearn.model_selection import GridSearchCV\n",
    "parameters = { 'n_estimators' : [ 100, 120, 140, 160, 180, 200 ] , 'max_depth': [5, 6, 7, 8, 9, 10, 11, 12, 13, 14, 15]}\n",
    "grid = GridSearchCV(RandomForestClassifier(random_state = 100), parameters, n_jobs=-1, scoring = fScore)\n",
    "grid.fit(X_train, y_train)\n",
    "\n",
    "print('*'*10)\n",
    "print('Train Performance')\n",
    "print('*'*10)\n",
    "print(classification_report(y_train, grid.predict(X_train), target_names=['no', 'yes']))\n",
    "\n",
    "print('*'*10)\n",
    "print('Test Performance')\n",
    "print('*'*10)\n",
    "print(classification_report(y_test, grid.predict(X_test), target_names=['no', 'yes']))"
   ]
  },
  {
   "cell_type": "code",
   "execution_count": 42,
   "id": "30983b8f",
   "metadata": {},
   "outputs": [
    {
     "data": {
      "text/plain": [
       "327.4424817562103"
      ]
     },
     "execution_count": 42,
     "metadata": {},
     "output_type": "execute_result"
    }
   ],
   "source": [
    "time.time() - curr"
   ]
  },
  {
   "cell_type": "code",
   "execution_count": 43,
   "id": "d1f1a998",
   "metadata": {},
   "outputs": [
    {
     "name": "stdout",
     "output_type": "stream",
     "text": [
      "**********\n",
      "Train Performance\n",
      "**********\n",
      "              precision    recall  f1-score   support\n",
      "\n",
      "          no       0.95      1.00      0.98     29972\n",
      "         yes       0.98      0.63      0.77      3936\n",
      "\n",
      "    accuracy                           0.96     33908\n",
      "   macro avg       0.97      0.81      0.87     33908\n",
      "weighted avg       0.96      0.96      0.95     33908\n",
      "\n"
     ]
    }
   ],
   "source": [
    "print('*'*10)\n",
    "print('Train Performance')\n",
    "print('*'*10)\n",
    "print(classification_report(y_train, grid.predict(X_train), target_names=['no', 'yes']))"
   ]
  },
  {
   "cell_type": "code",
   "execution_count": 47,
   "id": "ea41536c",
   "metadata": {},
   "outputs": [
    {
     "name": "stdout",
     "output_type": "stream",
     "text": [
      "**********\n",
      "Test Performance\n",
      "**********\n",
      "              precision    recall  f1-score   support\n",
      "\n",
      "          no       0.91      0.98      0.94      9950\n",
      "         yes       0.66      0.32      0.43      1353\n",
      "\n",
      "    accuracy                           0.90     11303\n",
      "   macro avg       0.79      0.65      0.69     11303\n",
      "weighted avg       0.88      0.90      0.88     11303\n",
      "\n"
     ]
    }
   ],
   "source": [
    "print('*'*10)\n",
    "print('Test Performance')\n",
    "print('*'*10)\n",
    "print(classification_report(y_test, grid.predict(X_test), target_names=['no', 'yes']))"
   ]
  },
  {
   "cell_type": "code",
   "execution_count": 48,
   "id": "b8430925",
   "metadata": {},
   "outputs": [],
   "source": [
    "### Saving model\n",
    "filename = '../models/random_forest_wo_oversampling.sav'\n",
    "pickle.dump(grid, open(filename, 'wb'))"
   ]
  },
  {
   "cell_type": "markdown",
   "id": "602b2a25",
   "metadata": {},
   "source": [
    "#### Decision Tree"
   ]
  },
  {
   "cell_type": "code",
   "execution_count": 49,
   "id": "f8cb6a47",
   "metadata": {},
   "outputs": [
    {
     "name": "stdout",
     "output_type": "stream",
     "text": [
      "**********\n",
      "Train Performance\n",
      "**********\n",
      "              precision    recall  f1-score   support\n",
      "\n",
      "          no       0.93      0.97      0.95     29972\n",
      "         yes       0.70      0.46      0.55      3936\n",
      "\n",
      "    accuracy                           0.91     33908\n",
      "   macro avg       0.81      0.71      0.75     33908\n",
      "weighted avg       0.90      0.91      0.91     33908\n",
      "\n",
      "**********\n",
      "Test Performance\n",
      "**********\n",
      "              precision    recall  f1-score   support\n",
      "\n",
      "          no       0.92      0.97      0.94      9950\n",
      "         yes       0.61      0.39      0.47      1353\n",
      "\n",
      "    accuracy                           0.90     11303\n",
      "   macro avg       0.76      0.68      0.71     11303\n",
      "weighted avg       0.88      0.90      0.89     11303\n",
      "\n"
     ]
    }
   ],
   "source": [
    "dtClf = DecisionTreeClassifier()\n",
    "parameters = {'max_depth': [5, 6, 7, 8, 9, 10, 11, 12, 13, 14, 15]}\n",
    "dtGrid = GridSearchCV(dtClf, parameters, n_jobs=-1, scoring = fScore)\n",
    "dtGrid.fit(X_train, y_train)\n",
    "\n",
    "print('*'*10)\n",
    "print('Train Performance')\n",
    "print('*'*10)\n",
    "print(classification_report(y_train, dtGrid.predict(X_train), target_names=['no', 'yes']))\n",
    "print('*'*10)\n",
    "print('Test Performance')\n",
    "print('*'*10)\n",
    "print(classification_report(y_test, dtGrid.predict(X_test), target_names=['no', 'yes']))"
   ]
  },
  {
   "cell_type": "code",
   "execution_count": 55,
   "id": "f363e287",
   "metadata": {},
   "outputs": [
    {
     "name": "stdout",
     "output_type": "stream",
     "text": [
      "**********\n",
      "Train Performance\n",
      "**********\n",
      "              precision    recall  f1-score   support\n",
      "\n",
      "          no       0.93      0.97      0.95     29972\n",
      "         yes       0.70      0.46      0.55      3936\n",
      "\n",
      "    accuracy                           0.91     33908\n",
      "   macro avg       0.81      0.71      0.75     33908\n",
      "weighted avg       0.90      0.91      0.91     33908\n",
      "\n",
      "**********\n",
      "Test Performance\n",
      "**********\n",
      "              precision    recall  f1-score   support\n",
      "\n",
      "          no       0.92      0.97      0.94      9950\n",
      "         yes       0.61      0.39      0.47      1353\n",
      "\n",
      "    accuracy                           0.90     11303\n",
      "   macro avg       0.76      0.68      0.71     11303\n",
      "weighted avg       0.88      0.90      0.89     11303\n",
      "\n"
     ]
    }
   ],
   "source": [
    "print('*'*10)\n",
    "print('Train Performance')\n",
    "print('*'*10)\n",
    "print(classification_report(y_train, dtGrid.predict(X_train), target_names=['no', 'yes']))\n",
    "print('*'*10)\n",
    "print('Test Performance')\n",
    "print('*'*10)\n",
    "print(classification_report(y_test, dtGrid.predict(X_test), target_names=['no', 'yes']))"
   ]
  },
  {
   "cell_type": "code",
   "execution_count": 56,
   "id": "ce520c56",
   "metadata": {},
   "outputs": [],
   "source": [
    "### Saving model\n",
    "filename = '../models/decision_tree_wo_oversampling.sav'\n",
    "pickle.dump(dtGrid, open(filename, 'wb'))"
   ]
  },
  {
   "cell_type": "markdown",
   "id": "a5eec6ba",
   "metadata": {},
   "source": [
    "### Xgboost"
   ]
  },
  {
   "cell_type": "code",
   "execution_count": 58,
   "id": "49a73bd2",
   "metadata": {},
   "outputs": [
    {
     "name": "stdout",
     "output_type": "stream",
     "text": [
      "Fitting 5 folds for each of 66 candidates, totalling 330 fits\n",
      "**********\n",
      "Train Performance\n",
      "**********\n",
      "              precision    recall  f1-score   support\n",
      "\n",
      "          no       0.98      1.00      0.99     29972\n",
      "         yes       0.99      0.87      0.92      3936\n",
      "\n",
      "    accuracy                           0.98     33908\n",
      "   macro avg       0.99      0.93      0.96     33908\n",
      "weighted avg       0.98      0.98      0.98     33908\n",
      "\n",
      "**********\n",
      "Test Performance\n",
      "**********\n",
      "              precision    recall  f1-score   support\n",
      "\n",
      "          no       0.92      0.96      0.94      9950\n",
      "         yes       0.59      0.41      0.48      1353\n",
      "\n",
      "    accuracy                           0.90     11303\n",
      "   macro avg       0.76      0.69      0.71     11303\n",
      "weighted avg       0.88      0.90      0.89     11303\n",
      "\n"
     ]
    }
   ],
   "source": [
    "xgbtClf = xgb.XGBClassifier()\n",
    "parameters = { 'n_estimators' : [ 100, 120, 140, 160, 180, 200 ] , 'max_depth': [5, 6, 7, 8, 9, 10, 11, 12, 13, 14, 15]}\n",
    "xgbtGrid = GridSearchCV(xgbtClf, parameters, n_jobs=-1, verbose=10, scoring = fScore)\n",
    "xgbtGrid.fit(X_train, y_train)\n",
    "\n",
    "print('*'*10)\n",
    "print('Train Performance')\n",
    "print('*'*10)\n",
    "print(classification_report(y_train, xgbtGrid.predict(X_train), target_names=['no', 'yes']))\n",
    "print('*'*10)\n",
    "print('Test Performance')\n",
    "print('*'*10)\n",
    "print(classification_report(y_test, xgbtGrid.predict(X_test), target_names=['no', 'yes']))"
   ]
  },
  {
   "cell_type": "code",
   "execution_count": null,
   "id": "17ccf183",
   "metadata": {},
   "outputs": [],
   "source": [
    "print('*'*10)\n",
    "print('Train Performance')\n",
    "print('*'*10)\n",
    "print(classification_report(y_train, xgbtGrid.predict(X_train), target_names=['no', 'yes']))\n",
    "print('*'*10)\n",
    "print('Test Performance')\n",
    "print('*'*10)\n",
    "print(classification_report(y_test, xgbtGrid.predict(X_test), target_names=['no', 'yes']))"
   ]
  },
  {
   "cell_type": "code",
   "execution_count": 60,
   "id": "974b0a78",
   "metadata": {},
   "outputs": [],
   "source": [
    "### Saving model\n",
    "filename = '../models/xgboost_wo_oversampling.sav'\n",
    "pickle.dump(xgbtGrid, open(filename, 'wb'))"
   ]
  },
  {
   "cell_type": "markdown",
   "id": "849a23e3",
   "metadata": {},
   "source": [
    "### Logistic regression"
   ]
  },
  {
   "cell_type": "code",
   "execution_count": 62,
   "id": "4107a50e",
   "metadata": {},
   "outputs": [
    {
     "name": "stdout",
     "output_type": "stream",
     "text": [
      "Fitting 5 folds for each of 15 candidates, totalling 75 fits\n"
     ]
    },
    {
     "name": "stderr",
     "output_type": "stream",
     "text": [
      "F:\\Covid and Insurance\\Anaconda\\lib\\site-packages\\scipy\\optimize\\linesearch.py:478: LineSearchWarning: The line search algorithm did not converge\n",
      "  warn('The line search algorithm did not converge', LineSearchWarning)\n",
      "F:\\Covid and Insurance\\Anaconda\\lib\\site-packages\\scipy\\optimize\\linesearch.py:327: LineSearchWarning: The line search algorithm did not converge\n",
      "  warn('The line search algorithm did not converge', LineSearchWarning)\n",
      "F:\\Covid and Insurance\\Anaconda\\lib\\site-packages\\sklearn\\utils\\optimize.py:210: ConvergenceWarning: newton-cg failed to converge. Increase the number of iterations.\n",
      "  warnings.warn(\n"
     ]
    },
    {
     "data": {
      "text/html": [
       "<style>#sk-container-id-1 {color: black;background-color: white;}#sk-container-id-1 pre{padding: 0;}#sk-container-id-1 div.sk-toggleable {background-color: white;}#sk-container-id-1 label.sk-toggleable__label {cursor: pointer;display: block;width: 100%;margin-bottom: 0;padding: 0.3em;box-sizing: border-box;text-align: center;}#sk-container-id-1 label.sk-toggleable__label-arrow:before {content: \"▸\";float: left;margin-right: 0.25em;color: #696969;}#sk-container-id-1 label.sk-toggleable__label-arrow:hover:before {color: black;}#sk-container-id-1 div.sk-estimator:hover label.sk-toggleable__label-arrow:before {color: black;}#sk-container-id-1 div.sk-toggleable__content {max-height: 0;max-width: 0;overflow: hidden;text-align: left;background-color: #f0f8ff;}#sk-container-id-1 div.sk-toggleable__content pre {margin: 0.2em;color: black;border-radius: 0.25em;background-color: #f0f8ff;}#sk-container-id-1 input.sk-toggleable__control:checked~div.sk-toggleable__content {max-height: 200px;max-width: 100%;overflow: auto;}#sk-container-id-1 input.sk-toggleable__control:checked~label.sk-toggleable__label-arrow:before {content: \"▾\";}#sk-container-id-1 div.sk-estimator input.sk-toggleable__control:checked~label.sk-toggleable__label {background-color: #d4ebff;}#sk-container-id-1 div.sk-label input.sk-toggleable__control:checked~label.sk-toggleable__label {background-color: #d4ebff;}#sk-container-id-1 input.sk-hidden--visually {border: 0;clip: rect(1px 1px 1px 1px);clip: rect(1px, 1px, 1px, 1px);height: 1px;margin: -1px;overflow: hidden;padding: 0;position: absolute;width: 1px;}#sk-container-id-1 div.sk-estimator {font-family: monospace;background-color: #f0f8ff;border: 1px dotted black;border-radius: 0.25em;box-sizing: border-box;margin-bottom: 0.5em;}#sk-container-id-1 div.sk-estimator:hover {background-color: #d4ebff;}#sk-container-id-1 div.sk-parallel-item::after {content: \"\";width: 100%;border-bottom: 1px solid gray;flex-grow: 1;}#sk-container-id-1 div.sk-label:hover label.sk-toggleable__label {background-color: #d4ebff;}#sk-container-id-1 div.sk-serial::before {content: \"\";position: absolute;border-left: 1px solid gray;box-sizing: border-box;top: 0;bottom: 0;left: 50%;z-index: 0;}#sk-container-id-1 div.sk-serial {display: flex;flex-direction: column;align-items: center;background-color: white;padding-right: 0.2em;padding-left: 0.2em;position: relative;}#sk-container-id-1 div.sk-item {position: relative;z-index: 1;}#sk-container-id-1 div.sk-parallel {display: flex;align-items: stretch;justify-content: center;background-color: white;position: relative;}#sk-container-id-1 div.sk-item::before, #sk-container-id-1 div.sk-parallel-item::before {content: \"\";position: absolute;border-left: 1px solid gray;box-sizing: border-box;top: 0;bottom: 0;left: 50%;z-index: -1;}#sk-container-id-1 div.sk-parallel-item {display: flex;flex-direction: column;z-index: 1;position: relative;background-color: white;}#sk-container-id-1 div.sk-parallel-item:first-child::after {align-self: flex-end;width: 50%;}#sk-container-id-1 div.sk-parallel-item:last-child::after {align-self: flex-start;width: 50%;}#sk-container-id-1 div.sk-parallel-item:only-child::after {width: 0;}#sk-container-id-1 div.sk-dashed-wrapped {border: 1px dashed gray;margin: 0 0.4em 0.5em 0.4em;box-sizing: border-box;padding-bottom: 0.4em;background-color: white;}#sk-container-id-1 div.sk-label label {font-family: monospace;font-weight: bold;display: inline-block;line-height: 1.2em;}#sk-container-id-1 div.sk-label-container {text-align: center;}#sk-container-id-1 div.sk-container {/* jupyter's `normalize.less` sets `[hidden] { display: none; }` but bootstrap.min.css set `[hidden] { display: none !important; }` so we also need the `!important` here to be able to override the default hidden behavior on the sphinx rendered scikit-learn.org. See: https://github.com/scikit-learn/scikit-learn/issues/21755 */display: inline-block !important;position: relative;}#sk-container-id-1 div.sk-text-repr-fallback {display: none;}</style><div id=\"sk-container-id-1\" class=\"sk-top-container\"><div class=\"sk-text-repr-fallback\"><pre>GridSearchCV(estimator=LogisticRegression(), n_jobs=-1,\n",
       "             param_grid={&#x27;C&#x27;: [100, 10, 1.0, 0.1, 0.01], &#x27;penalty&#x27;: [&#x27;l2&#x27;],\n",
       "                         &#x27;solver&#x27;: [&#x27;newton-cg&#x27;, &#x27;lbfgs&#x27;, &#x27;liblinear&#x27;]},\n",
       "             scoring=make_scorer(f1_score), verbose=10)</pre><b>In a Jupyter environment, please rerun this cell to show the HTML representation or trust the notebook. <br />On GitHub, the HTML representation is unable to render, please try loading this page with nbviewer.org.</b></div><div class=\"sk-container\" hidden><div class=\"sk-item sk-dashed-wrapped\"><div class=\"sk-label-container\"><div class=\"sk-label sk-toggleable\"><input class=\"sk-toggleable__control sk-hidden--visually\" id=\"sk-estimator-id-1\" type=\"checkbox\" ><label for=\"sk-estimator-id-1\" class=\"sk-toggleable__label sk-toggleable__label-arrow\">GridSearchCV</label><div class=\"sk-toggleable__content\"><pre>GridSearchCV(estimator=LogisticRegression(), n_jobs=-1,\n",
       "             param_grid={&#x27;C&#x27;: [100, 10, 1.0, 0.1, 0.01], &#x27;penalty&#x27;: [&#x27;l2&#x27;],\n",
       "                         &#x27;solver&#x27;: [&#x27;newton-cg&#x27;, &#x27;lbfgs&#x27;, &#x27;liblinear&#x27;]},\n",
       "             scoring=make_scorer(f1_score), verbose=10)</pre></div></div></div><div class=\"sk-parallel\"><div class=\"sk-parallel-item\"><div class=\"sk-item\"><div class=\"sk-label-container\"><div class=\"sk-label sk-toggleable\"><input class=\"sk-toggleable__control sk-hidden--visually\" id=\"sk-estimator-id-2\" type=\"checkbox\" ><label for=\"sk-estimator-id-2\" class=\"sk-toggleable__label sk-toggleable__label-arrow\">estimator: LogisticRegression</label><div class=\"sk-toggleable__content\"><pre>LogisticRegression()</pre></div></div></div><div class=\"sk-serial\"><div class=\"sk-item\"><div class=\"sk-estimator sk-toggleable\"><input class=\"sk-toggleable__control sk-hidden--visually\" id=\"sk-estimator-id-3\" type=\"checkbox\" ><label for=\"sk-estimator-id-3\" class=\"sk-toggleable__label sk-toggleable__label-arrow\">LogisticRegression</label><div class=\"sk-toggleable__content\"><pre>LogisticRegression()</pre></div></div></div></div></div></div></div></div></div></div>"
      ],
      "text/plain": [
       "GridSearchCV(estimator=LogisticRegression(), n_jobs=-1,\n",
       "             param_grid={'C': [100, 10, 1.0, 0.1, 0.01], 'penalty': ['l2'],\n",
       "                         'solver': ['newton-cg', 'lbfgs', 'liblinear']},\n",
       "             scoring=make_scorer(f1_score), verbose=10)"
      ]
     },
     "execution_count": 62,
     "metadata": {},
     "output_type": "execute_result"
    }
   ],
   "source": [
    "logClf = LogisticRegression()\n",
    "#parameters = { 'n_estimators' : [ 100, 120, 140, 160, 180, 200 ] , 'max_depth': [5, 6, 7, 8, 9, 10, 11, 12, 13, 14, 15]}\n",
    "\n",
    "solvers = ['newton-cg', 'lbfgs', 'liblinear']\n",
    "penalty = ['l2']\n",
    "c_values = [100, 10, 1.0, 0.1, 0.01]\n",
    "# define grid search\n",
    "parameters = dict(solver=solvers,penalty=penalty,C=c_values)\n",
    "\n",
    "logGrid = GridSearchCV(logClf, parameters, n_jobs=-1, verbose=10, scoring = fScore)\n",
    "logGrid.fit(X_train, y_train)"
   ]
  },
  {
   "cell_type": "code",
   "execution_count": 63,
   "id": "89fb18ac",
   "metadata": {},
   "outputs": [
    {
     "name": "stdout",
     "output_type": "stream",
     "text": [
      "**********\n",
      "Train Performance\n",
      "**********\n",
      "              precision    recall  f1-score   support\n",
      "\n",
      "          no       0.92      0.98      0.95     29972\n",
      "         yes       0.65      0.33      0.43      3936\n",
      "\n",
      "    accuracy                           0.90     33908\n",
      "   macro avg       0.78      0.65      0.69     33908\n",
      "weighted avg       0.89      0.90      0.89     33908\n",
      "\n",
      "**********\n",
      "Test Performance\n",
      "**********\n",
      "              precision    recall  f1-score   support\n",
      "\n",
      "          no       0.91      0.98      0.94      9950\n",
      "         yes       0.65      0.33      0.44      1353\n",
      "\n",
      "    accuracy                           0.90     11303\n",
      "   macro avg       0.78      0.65      0.69     11303\n",
      "weighted avg       0.88      0.90      0.88     11303\n",
      "\n"
     ]
    }
   ],
   "source": [
    "print('*'*10)\n",
    "print('Train Performance')\n",
    "print('*'*10)\n",
    "print(classification_report(y_train, logGrid.predict(X_train), target_names=['no', 'yes']))\n",
    "print('*'*10)\n",
    "print('Test Performance')\n",
    "print('*'*10)\n",
    "print(classification_report(y_test, logGrid.predict(X_test), target_names=['no', 'yes']))"
   ]
  },
  {
   "cell_type": "code",
   "execution_count": 64,
   "id": "443d8010",
   "metadata": {},
   "outputs": [],
   "source": [
    "### Saving model\n",
    "filename = '../models/logistic_regression_wo_oversampling.sav'\n",
    "pickle.dump(logGrid, open(filename, 'wb'))"
   ]
  },
  {
   "cell_type": "markdown",
   "id": "ed04f550",
   "metadata": {},
   "source": [
    "### SVM"
   ]
  },
  {
   "cell_type": "code",
   "execution_count": 65,
   "id": "f4f4625b",
   "metadata": {},
   "outputs": [
    {
     "name": "stdout",
     "output_type": "stream",
     "text": [
      "Fitting 5 folds for each of 1 candidates, totalling 5 fits\n",
      "**********\n",
      "Train Performance\n",
      "**********\n",
      "              precision    recall  f1-score   support\n",
      "\n",
      "          no       0.88      1.00      0.94     29972\n",
      "         yes       0.56      0.01      0.02      3936\n",
      "\n",
      "    accuracy                           0.88     33908\n",
      "   macro avg       0.72      0.50      0.48     33908\n",
      "weighted avg       0.85      0.88      0.83     33908\n",
      "\n",
      "**********\n",
      "Test Performance\n",
      "**********\n",
      "              precision    recall  f1-score   support\n",
      "\n",
      "          no       0.88      1.00      0.94      9950\n",
      "         yes       0.56      0.01      0.01      1353\n",
      "\n",
      "    accuracy                           0.88     11303\n",
      "   macro avg       0.72      0.50      0.47     11303\n",
      "weighted avg       0.84      0.88      0.83     11303\n",
      "\n"
     ]
    }
   ],
   "source": [
    "svmClf = svm.SVC()\n",
    "parameters = {}\n",
    "svmGrid = GridSearchCV(svmClf, parameters, n_jobs=-1, verbose=10, scoring = fScore)\n",
    "svmGrid.fit(X_train, y_train)\n",
    "\n",
    "print('*'*10)\n",
    "print('Train Performance')\n",
    "print('*'*10)\n",
    "print(classification_report(y_train, svmGrid.predict(X_train), target_names=['no', 'yes']))\n",
    "print('*'*10)\n",
    "print('Test Performance')\n",
    "print('*'*10)\n",
    "print(classification_report(y_test, svmGrid.predict(X_test), target_names=['no', 'yes']))"
   ]
  },
  {
   "cell_type": "code",
   "execution_count": 66,
   "id": "9be28c83",
   "metadata": {},
   "outputs": [
    {
     "name": "stdout",
     "output_type": "stream",
     "text": [
      "**********\n",
      "Train Performance\n",
      "**********\n",
      "              precision    recall  f1-score   support\n",
      "\n",
      "          no       0.88      1.00      0.94     29972\n",
      "         yes       0.56      0.01      0.02      3936\n",
      "\n",
      "    accuracy                           0.88     33908\n",
      "   macro avg       0.72      0.50      0.48     33908\n",
      "weighted avg       0.85      0.88      0.83     33908\n",
      "\n",
      "**********\n",
      "Test Performance\n",
      "**********\n",
      "              precision    recall  f1-score   support\n",
      "\n",
      "          no       0.88      1.00      0.94      9950\n",
      "         yes       0.56      0.01      0.01      1353\n",
      "\n",
      "    accuracy                           0.88     11303\n",
      "   macro avg       0.72      0.50      0.47     11303\n",
      "weighted avg       0.84      0.88      0.83     11303\n",
      "\n"
     ]
    }
   ],
   "source": [
    "print('*'*10)\n",
    "print('Train Performance')\n",
    "print('*'*10)\n",
    "print(classification_report(y_train, svmGrid.predict(X_train), target_names=['no', 'yes']))\n",
    "print('*'*10)\n",
    "print('Test Performance')\n",
    "print('*'*10)\n",
    "print(classification_report(y_test, svmGrid.predict(X_test), target_names=['no', 'yes']))"
   ]
  },
  {
   "cell_type": "code",
   "execution_count": 67,
   "id": "8c2071ae",
   "metadata": {},
   "outputs": [],
   "source": [
    "### Saving model\n",
    "filename = '../models/svm_wo_oversampling.sav'\n",
    "pickle.dump(svmGrid, open(filename, 'wb'))"
   ]
  },
  {
   "cell_type": "markdown",
   "id": "88b7af36",
   "metadata": {},
   "source": [
    "### Adaboost classifier"
   ]
  },
  {
   "cell_type": "code",
   "execution_count": 10,
   "id": "4fb7fcb4",
   "metadata": {
    "ExecuteTime": {
     "end_time": "2022-08-06T06:29:44.069827Z",
     "start_time": "2022-08-06T06:28:27.513018Z"
    }
   },
   "outputs": [
    {
     "name": "stdout",
     "output_type": "stream",
     "text": [
      "Fitting 5 folds for each of 12 candidates, totalling 60 fits\n",
      "**********\n",
      "Train Performance\n",
      "**********\n",
      "              precision    recall  f1-score   support\n",
      "\n",
      "          no       0.92      0.97      0.95     29972\n",
      "         yes       0.65      0.38      0.48      3936\n",
      "\n",
      "    accuracy                           0.90     33908\n",
      "   macro avg       0.78      0.68      0.71     33908\n",
      "weighted avg       0.89      0.90      0.89     33908\n",
      "\n",
      "**********\n",
      "Test Performance\n",
      "**********\n",
      "              precision    recall  f1-score   support\n",
      "\n",
      "          no       0.92      0.97      0.94      9950\n",
      "         yes       0.63      0.37      0.47      1353\n",
      "\n",
      "    accuracy                           0.90     11303\n",
      "   macro avg       0.78      0.67      0.71     11303\n",
      "weighted avg       0.88      0.90      0.89     11303\n",
      "\n"
     ]
    }
   ],
   "source": [
    "adaboostClf = AdaBoostClassifier()\n",
    "parameters = { 'n_estimators' : [ 100, 120, 140, 160, 180, 200 ], 'algorithm':['SAMME', 'SAMME.R']}\n",
    "adaboostGrid = GridSearchCV(adaboostClf, parameters, n_jobs=-1, verbose=10, scoring = fScore)\n",
    "adaboostGrid.fit(X_train, y_train)\n",
    "\n",
    "print('*'*10)\n",
    "print('Train Performance')\n",
    "print('*'*10)\n",
    "print(classification_report(y_train, adaboostGrid.predict(X_train), target_names=['no', 'yes']))\n",
    "print('*'*10)\n",
    "print('Test Performance')\n",
    "print('*'*10)\n",
    "print(classification_report(y_test, adaboostGrid.predict(X_test), target_names=['no', 'yes']))"
   ]
  },
  {
   "cell_type": "code",
   "execution_count": 69,
   "id": "cba84a79",
   "metadata": {},
   "outputs": [
    {
     "name": "stdout",
     "output_type": "stream",
     "text": [
      "**********\n",
      "Train Performance\n",
      "**********\n",
      "              precision    recall  f1-score   support\n",
      "\n",
      "          no       0.92      0.97      0.95     29972\n",
      "         yes       0.65      0.38      0.48      3936\n",
      "\n",
      "    accuracy                           0.90     33908\n",
      "   macro avg       0.78      0.68      0.71     33908\n",
      "weighted avg       0.89      0.90      0.89     33908\n",
      "\n",
      "**********\n",
      "Test Performance\n",
      "**********\n",
      "              precision    recall  f1-score   support\n",
      "\n",
      "          no       0.92      0.97      0.94      9950\n",
      "         yes       0.63      0.37      0.47      1353\n",
      "\n",
      "    accuracy                           0.90     11303\n",
      "   macro avg       0.78      0.67      0.71     11303\n",
      "weighted avg       0.88      0.90      0.89     11303\n",
      "\n"
     ]
    }
   ],
   "source": [
    "print('*'*10)\n",
    "print('Train Performance')\n",
    "print('*'*10)\n",
    "print(classification_report(y_train, adaboostGrid.predict(X_train), target_names=['no', 'yes']))\n",
    "print('*'*10)\n",
    "print('Test Performance')\n",
    "print('*'*10)\n",
    "print(classification_report(y_test, adaboostGrid.predict(X_test), target_names=['no', 'yes']))"
   ]
  },
  {
   "cell_type": "code",
   "execution_count": 70,
   "id": "d2ab06c0",
   "metadata": {},
   "outputs": [],
   "source": [
    "filename = '../models/sdsboost_wo_oversampling.sav'\n",
    "pickle.dump(adaboostGrid, open(filename, 'wb'))"
   ]
  },
  {
   "cell_type": "markdown",
   "id": "7100e16f",
   "metadata": {},
   "source": [
    "## Modeling with oversampling minor class"
   ]
  },
  {
   "cell_type": "code",
   "execution_count": 10,
   "id": "ff40a87e",
   "metadata": {
    "ExecuteTime": {
     "end_time": "2022-08-13T11:04:25.138060Z",
     "start_time": "2022-08-13T11:04:25.050581Z"
    }
   },
   "outputs": [],
   "source": [
    "# define oversampling strategy\n",
    "oversample = RandomOverSampler(sampling_strategy=0.25)\n",
    "\n",
    "X_over, y_over = oversample.fit_resample(X_train, y_train)"
   ]
  },
  {
   "cell_type": "markdown",
   "id": "901c1c0e",
   "metadata": {},
   "source": [
    "### Random forest on oversampled data"
   ]
  },
  {
   "cell_type": "code",
   "execution_count": 32,
   "id": "8d2c6322",
   "metadata": {},
   "outputs": [
    {
     "name": "stdout",
     "output_type": "stream",
     "text": [
      "**********\n",
      "Train Performance\n",
      "**********\n",
      "              precision    recall  f1-score   support\n",
      "\n",
      "          no       0.95      0.99      0.97     29972\n",
      "         yes       0.96      0.80      0.87      7493\n",
      "\n",
      "    accuracy                           0.95     37465\n",
      "   macro avg       0.95      0.89      0.92     37465\n",
      "weighted avg       0.95      0.95      0.95     37465\n",
      "\n",
      "**********\n",
      "Test Performance\n",
      "**********\n",
      "              precision    recall  f1-score   support\n",
      "\n",
      "          no       0.93      0.96      0.94      9950\n",
      "         yes       0.60      0.46      0.52      1353\n",
      "\n",
      "    accuracy                           0.90     11303\n",
      "   macro avg       0.76      0.71      0.73     11303\n",
      "weighted avg       0.89      0.90      0.89     11303\n",
      "\n"
     ]
    }
   ],
   "source": [
    "from sklearn.model_selection import GridSearchCV\n",
    "parameters = { 'n_estimators' : [ 100, 120, 140, 160, 180, 200 ] , 'max_depth': [5, 6, 7, 8, 9, 10, 11, 12, 13, 14, 15]}\n",
    "grid = GridSearchCV(RandomForestClassifier(random_state = 100), parameters, n_jobs=-1, scoring = fScore)\n",
    "grid.fit(X_over, y_over)\n",
    "\n",
    "print('*'*10)\n",
    "print('Train Performance')\n",
    "print('*'*10)\n",
    "print(classification_report(y_over, grid.predict(X_over), target_names=['no', 'yes']))\n",
    "\n",
    "print('*'*10)\n",
    "print('Test Performance')\n",
    "print('*'*10)\n",
    "print(classification_report(y_test, grid.predict(X_test), target_names=['no', 'yes']))"
   ]
  },
  {
   "cell_type": "code",
   "execution_count": 33,
   "id": "02a4bc30",
   "metadata": {},
   "outputs": [],
   "source": [
    "filename = '../models/randomforest_w_oversampling.sav'\n",
    "pickle.dump(grid, open(filename, 'wb'))"
   ]
  },
  {
   "cell_type": "markdown",
   "id": "934bf9f8",
   "metadata": {},
   "source": [
    "### Decision tree on oversampled data"
   ]
  },
  {
   "cell_type": "code",
   "execution_count": 74,
   "id": "c40e3ed9",
   "metadata": {},
   "outputs": [
    {
     "name": "stdout",
     "output_type": "stream",
     "text": [
      "**********\n",
      "Train Performance\n",
      "**********\n",
      "              precision    recall  f1-score   support\n",
      "\n",
      "          no       0.96      0.97      0.97     29972\n",
      "         yes       0.88      0.84      0.86      7493\n",
      "\n",
      "    accuracy                           0.94     37465\n",
      "   macro avg       0.92      0.90      0.91     37465\n",
      "weighted avg       0.94      0.94      0.94     37465\n",
      "\n",
      "**********\n",
      "Test Performance\n",
      "**********\n",
      "              precision    recall  f1-score   support\n",
      "\n",
      "          no       0.93      0.92      0.92      9950\n",
      "         yes       0.45      0.47      0.46      1353\n",
      "\n",
      "    accuracy                           0.87     11303\n",
      "   macro avg       0.69      0.70      0.69     11303\n",
      "weighted avg       0.87      0.87      0.87     11303\n",
      "\n"
     ]
    }
   ],
   "source": [
    "dtClf = DecisionTreeClassifier()\n",
    "parameters = {'max_depth': [5, 6, 7, 8, 9, 10, 11, 12, 13, 14, 15]}\n",
    "dtGrid = GridSearchCV(dtClf, parameters, n_jobs=-1, scoring = fScore)\n",
    "dtGrid.fit(X_over, y_over)\n",
    "\n",
    "print('*'*10)\n",
    "print('Train Performance')\n",
    "print('*'*10)\n",
    "print(classification_report(y_over, dtGrid.predict(X_over), target_names=['no', 'yes']))\n",
    "print('*'*10)\n",
    "print('Test Performance')\n",
    "print('*'*10)\n",
    "print(classification_report(y_test, dtGrid.predict(X_test), target_names=['no', 'yes']))"
   ]
  },
  {
   "cell_type": "code",
   "execution_count": 75,
   "id": "d57ef768",
   "metadata": {},
   "outputs": [],
   "source": [
    "filename = '../models/decisiontree_w_oversampling.sav'\n",
    "pickle.dump(dtGrid, open(filename, 'wb'))"
   ]
  },
  {
   "cell_type": "markdown",
   "id": "12d007ff",
   "metadata": {},
   "source": [
    "### Xgboost on oversampled data"
   ]
  },
  {
   "cell_type": "code",
   "execution_count": 76,
   "id": "ac9f05f5",
   "metadata": {},
   "outputs": [
    {
     "name": "stdout",
     "output_type": "stream",
     "text": [
      "Fitting 5 folds for each of 66 candidates, totalling 330 fits\n",
      "**********\n",
      "Train Performance\n",
      "**********\n",
      "              precision    recall  f1-score   support\n",
      "\n",
      "          no       1.00      1.00      1.00     29972\n",
      "         yes       1.00      1.00      1.00      7493\n",
      "\n",
      "    accuracy                           1.00     37465\n",
      "   macro avg       1.00      1.00      1.00     37465\n",
      "weighted avg       1.00      1.00      1.00     37465\n",
      "\n",
      "**********\n",
      "Test Performance\n",
      "**********\n",
      "              precision    recall  f1-score   support\n",
      "\n",
      "          no       0.93      0.95      0.94      9950\n",
      "         yes       0.58      0.46      0.51      1353\n",
      "\n",
      "    accuracy                           0.89     11303\n",
      "   macro avg       0.75      0.71      0.73     11303\n",
      "weighted avg       0.89      0.89      0.89     11303\n",
      "\n"
     ]
    }
   ],
   "source": [
    "xgbtClf = xgb.XGBClassifier()\n",
    "parameters = { 'n_estimators' : [ 100, 120, 140, 160, 180, 200 ] , 'max_depth': [5, 6, 7, 8, 9, 10, 11, 12, 13, 14, 15]}\n",
    "xgbtGrid = GridSearchCV(xgbtClf, parameters, n_jobs=-1, verbose=10, scoring = fScore)\n",
    "xgbtGrid.fit(X_over, y_over)\n",
    "\n",
    "print('*'*10)\n",
    "print('Train Performance')\n",
    "print('*'*10)\n",
    "print(classification_report(y_over, xgbtGrid.predict(X_over), target_names=['no', 'yes']))\n",
    "print('*'*10)\n",
    "print('Test Performance')\n",
    "print('*'*10)\n",
    "print(classification_report(y_test, xgbtGrid.predict(X_test), target_names=['no', 'yes']))"
   ]
  },
  {
   "cell_type": "code",
   "execution_count": 77,
   "id": "75696a1c",
   "metadata": {},
   "outputs": [],
   "source": [
    "### Saving model\n",
    "filename = '../models/xgboost_w_oversampling.sav'\n",
    "pickle.dump(xgbtGrid, open(filename, 'wb'))"
   ]
  },
  {
   "cell_type": "markdown",
   "id": "093bbde6",
   "metadata": {},
   "source": [
    "### SVM on oversampled data"
   ]
  },
  {
   "cell_type": "code",
   "execution_count": 78,
   "id": "39b3bc97",
   "metadata": {},
   "outputs": [
    {
     "name": "stdout",
     "output_type": "stream",
     "text": [
      "Fitting 5 folds for each of 1 candidates, totalling 5 fits\n",
      "**********\n",
      "Train Performance\n",
      "**********\n",
      "              precision    recall  f1-score   support\n",
      "\n",
      "          no       0.83      0.99      0.90     29972\n",
      "         yes       0.75      0.18      0.29      7493\n",
      "\n",
      "    accuracy                           0.82     37465\n",
      "   macro avg       0.79      0.58      0.59     37465\n",
      "weighted avg       0.81      0.82      0.78     37465\n",
      "\n",
      "**********\n",
      "Test Performance\n",
      "**********\n",
      "              precision    recall  f1-score   support\n",
      "\n",
      "          no       0.90      0.98      0.94      9950\n",
      "         yes       0.56      0.17      0.26      1353\n",
      "\n",
      "    accuracy                           0.88     11303\n",
      "   macro avg       0.73      0.57      0.60     11303\n",
      "weighted avg       0.86      0.88      0.86     11303\n",
      "\n"
     ]
    }
   ],
   "source": [
    "svmClf = svm.SVC()\n",
    "parameters = {}\n",
    "svmGrid = GridSearchCV(svmClf, parameters, n_jobs=-1, verbose=10, scoring = fScore)\n",
    "svmGrid.fit(X_over, y_over)\n",
    "\n",
    "print('*'*10)\n",
    "print('Train Performance')\n",
    "print('*'*10)\n",
    "print(classification_report(y_over, svmGrid.predict(X_over), target_names=['no', 'yes']))\n",
    "print('*'*10)\n",
    "print('Test Performance')\n",
    "print('*'*10)\n",
    "print(classification_report(y_test, svmGrid.predict(X_test), target_names=['no', 'yes']))"
   ]
  },
  {
   "cell_type": "code",
   "execution_count": 79,
   "id": "207274f3",
   "metadata": {},
   "outputs": [],
   "source": [
    "filename = '../models/svm_w_oversampling.sav'\n",
    "pickle.dump(svmGrid, open(filename, 'wb'))"
   ]
  },
  {
   "cell_type": "markdown",
   "id": "986a8340",
   "metadata": {},
   "source": [
    "### Adaboost on oversampled data"
   ]
  },
  {
   "cell_type": "code",
   "execution_count": 80,
   "id": "a2cb632d",
   "metadata": {},
   "outputs": [
    {
     "name": "stdout",
     "output_type": "stream",
     "text": [
      "Fitting 5 folds for each of 12 candidates, totalling 60 fits\n",
      "**********\n",
      "Train Performance\n",
      "**********\n",
      "              precision    recall  f1-score   support\n",
      "\n",
      "          no       0.89      0.95      0.92     29972\n",
      "         yes       0.72      0.53      0.61      7493\n",
      "\n",
      "    accuracy                           0.86     37465\n",
      "   macro avg       0.81      0.74      0.76     37465\n",
      "weighted avg       0.86      0.86      0.86     37465\n",
      "\n",
      "**********\n",
      "Test Performance\n",
      "**********\n",
      "              precision    recall  f1-score   support\n",
      "\n",
      "          no       0.93      0.95      0.94      9950\n",
      "         yes       0.57      0.51      0.54      1353\n",
      "\n",
      "    accuracy                           0.90     11303\n",
      "   macro avg       0.75      0.73      0.74     11303\n",
      "weighted avg       0.89      0.90      0.89     11303\n",
      "\n"
     ]
    }
   ],
   "source": [
    "adaboostClf = AdaBoostClassifier()\n",
    "parameters = { 'n_estimators' : [ 100, 120, 140, 160, 180, 200 ], 'algorithm':['SAMME', 'SAMME.R']}\n",
    "adaboostGrid = GridSearchCV(adaboostClf, parameters, n_jobs=-1, verbose=10, scoring = fScore)\n",
    "adaboostGrid.fit(X_over, y_over)\n",
    "\n",
    "print('*'*10)\n",
    "print('Train Performance')\n",
    "print('*'*10)\n",
    "print(classification_report(y_over, adaboostGrid.predict(X_over), target_names=['no', 'yes']))\n",
    "print('*'*10)\n",
    "print('Test Performance')\n",
    "print('*'*10)\n",
    "print(classification_report(y_test, adaboostGrid.predict(X_test), target_names=['no', 'yes']))"
   ]
  },
  {
   "cell_type": "code",
   "execution_count": 81,
   "id": "93047d94",
   "metadata": {},
   "outputs": [],
   "source": [
    "filename = '../models/adaboost_w_oversampling.sav'\n",
    "pickle.dump(adaboostGrid, open(filename, 'wb'))"
   ]
  },
  {
   "cell_type": "markdown",
   "id": "0e18d160",
   "metadata": {},
   "source": [
    "### ROC curve for Xgboost model"
   ]
  },
  {
   "cell_type": "code",
   "execution_count": 12,
   "id": "67e87f47",
   "metadata": {
    "ExecuteTime": {
     "end_time": "2022-08-13T11:38:55.687216Z",
     "start_time": "2022-08-13T11:38:55.103878Z"
    }
   },
   "outputs": [],
   "source": [
    "filename = '../models/adaboost_w_oversampling.sav'\n",
    "final_model = pickle.load(open(filename, 'rb'))"
   ]
  },
  {
   "cell_type": "code",
   "execution_count": 12,
   "id": "d55ab8de",
   "metadata": {
    "ExecuteTime": {
     "end_time": "2022-08-12T14:25:07.438760Z",
     "start_time": "2022-08-12T14:25:07.422807Z"
    }
   },
   "outputs": [],
   "source": [
    "plt.style.use(\"classic\")\n",
    "plt.style.use(\"bmh\")"
   ]
  },
  {
   "cell_type": "code",
   "execution_count": 13,
   "id": "c1115337",
   "metadata": {
    "ExecuteTime": {
     "end_time": "2022-08-12T14:25:10.974041Z",
     "start_time": "2022-08-12T14:25:09.681681Z"
    }
   },
   "outputs": [
    {
     "name": "stdout",
     "output_type": "stream",
     "text": [
      "No Skill: ROC AUC=0.500\n",
      "Logistic: ROC AUC=0.895\n"
     ]
    },
    {
     "data": {
      "image/png": "[encoded data removed]",
      "text/plain": [
       "<Figure size 640x480 with 1 Axes>"
      ]
     },
     "metadata": {},
     "output_type": "display_data"
    }
   ],
   "source": [
    "ns_probs = [0 for _ in range(len(y_test))]\n",
    "# predict probabilities\n",
    "lr_probs = final_model.predict_proba(X_test)\n",
    "# keep probabilities for the positive outcome only\n",
    "lr_probs = lr_probs[:, 1]\n",
    "# calculate scores\n",
    "ns_auc = roc_auc_score(y_test, ns_probs)\n",
    "lr_auc = roc_auc_score(y_test, lr_probs)\n",
    "# summarize scores\n",
    "print('No Skill: ROC AUC=%.3f' % (ns_auc))\n",
    "print('Logistic: ROC AUC=%.3f' % (lr_auc))\n",
    "# calculate roc curves\n",
    "ns_fpr, ns_tpr, _ = roc_curve(y_test, ns_probs)\n",
    "lr_fpr, lr_tpr, _ = roc_curve(y_test, lr_probs)\n",
    "# plot the roc curve for the model\n",
    "pyplot.plot(ns_fpr, ns_tpr, linestyle='--', label='Baseline')\n",
    "pyplot.plot(lr_fpr, lr_tpr, marker='.', label='Adaboost without Over Sampling')\n",
    "# axis labels\n",
    "pyplot.xlabel('False Positive Rate')\n",
    "pyplot.ylabel('True Positive Rate')\n",
    "pyplot.title('ROC Curve')\n",
    "# show the legend\n",
    "pyplot.legend()\n",
    "# show the plot\n",
    "pyplot.show()"
   ]
  },
  {
   "cell_type": "code",
   "execution_count": 14,
   "id": "1ae50e77",
   "metadata": {
    "ExecuteTime": {
     "end_time": "2022-08-12T14:25:13.337723Z",
     "start_time": "2022-08-12T14:25:12.909427Z"
    }
   },
   "outputs": [
    {
     "name": "stdout",
     "output_type": "stream",
     "text": [
      "No Skill: ROC AUC=0.500\n",
      "Logistic: ROC AUC=0.895\n"
     ]
    },
    {
     "data": {
      "image/png": "[encoded data removed]",
      "text/plain": [
       "<Figure size 640x480 with 1 Axes>"
      ]
     },
     "metadata": {},
     "output_type": "display_data"
    }
   ],
   "source": [
    "ns_probs = [0 for _ in range(len(y_test))]\n",
    "# predict probabilities\n",
    "lr_probs = final_model.predict_proba(X_test)\n",
    "# keep probabilities for the positive outcome only\n",
    "lr_probs = lr_probs[:, 1]\n",
    "# calculate scores\n",
    "ns_auc = roc_auc_score(y_test, ns_probs)\n",
    "lr_auc = roc_auc_score(y_test, lr_probs)\n",
    "# summarize scores\n",
    "print('No Skill: ROC AUC=%.3f' % (ns_auc))\n",
    "print('Logistic: ROC AUC=%.3f' % (lr_auc))\n",
    "# calculate roc curves\n",
    "ns_fpr, ns_tpr, _ = roc_curve(y_test, ns_probs)\n",
    "lr_fpr, lr_tpr, _ = roc_curve(y_test, lr_probs)\n",
    "# plot the roc curve for the model\n",
    "pyplot.plot(ns_fpr, ns_tpr, linestyle='--', label='Baseline')\n",
    "pyplot.plot(lr_fpr, lr_tpr, marker='.', label='Adaboost without Over Sampling')\n",
    "# axis labels\n",
    "pyplot.xlabel('False Positive Rate')\n",
    "pyplot.ylabel('True Positive Rate')\n",
    "pyplot.title('ROC Curve')\n",
    "# show the legend\n",
    "pyplot.legend()\n",
    "# show the plot\n",
    "pyplot.show()"
   ]
  },
  {
   "cell_type": "markdown",
   "id": "c5ad0b96",
   "metadata": {},
   "source": [
    "### Feature Importance"
   ]
  },
  {
   "cell_type": "code",
   "execution_count": 18,
   "id": "d7ca1f86",
   "metadata": {
    "ExecuteTime": {
     "end_time": "2022-08-12T14:26:50.734488Z",
     "start_time": "2022-08-12T14:26:49.096395Z"
    }
   },
   "outputs": [
    {
     "name": "stdout",
     "output_type": "stream",
     "text": [
      "**********\n",
      "Train Performance\n",
      "**********\n",
      "              precision    recall  f1-score   support\n",
      "\n",
      "          no       0.89      0.95      0.92     29972\n",
      "         yes       0.72      0.52      0.61      7493\n",
      "\n",
      "    accuracy                           0.86     37465\n",
      "   macro avg       0.80      0.74      0.76     37465\n",
      "weighted avg       0.86      0.86      0.86     37465\n",
      "\n",
      "**********\n",
      "Test Performance\n",
      "**********\n",
      "              precision    recall  f1-score   support\n",
      "\n",
      "          no       0.93      0.95      0.94      9950\n",
      "         yes       0.57      0.51      0.54      1353\n",
      "\n",
      "    accuracy                           0.90     11303\n",
      "   macro avg       0.75      0.73      0.74     11303\n",
      "weighted avg       0.89      0.90      0.89     11303\n",
      "\n"
     ]
    }
   ],
   "source": [
    "print('*'*10)\n",
    "print('Train Performance')\n",
    "print('*'*10)\n",
    "print(classification_report(y_over, final_model.best_estimator_.predict(X_over), target_names=['no', 'yes']))\n",
    "print('*'*10)\n",
    "print('Test Performance')\n",
    "print('*'*10)\n",
    "print(classification_report(y_test, final_model.best_estimator_.predict(X_test), target_names=['no', 'yes']))"
   ]
  },
  {
   "cell_type": "code",
   "execution_count": 13,
   "id": "32167c4b",
   "metadata": {
    "ExecuteTime": {
     "end_time": "2022-08-13T11:39:05.184369Z",
     "start_time": "2022-08-13T11:39:02.436758Z"
    }
   },
   "outputs": [],
   "source": [
    "a = X_over\n",
    "a['pred'] = final_model.best_estimator_.predict(X_over)\n"
   ]
  },
  {
   "cell_type": "code",
   "execution_count": 34,
   "id": "f1da888c",
   "metadata": {
    "ExecuteTime": {
     "end_time": "2022-08-12T14:43:31.517809Z",
     "start_time": "2022-08-12T14:43:31.118122Z"
    }
   },
   "outputs": [],
   "source": [
    "a[a['pred'] == 1].to_csv('output.csv')"
   ]
  },
  {
   "cell_type": "code",
   "execution_count": 25,
   "id": "1f39bea7",
   "metadata": {
    "ExecuteTime": {
     "end_time": "2022-08-06T06:36:07.926005Z",
     "start_time": "2022-08-06T06:36:07.912965Z"
    }
   },
   "outputs": [],
   "source": [
    "featuerImpDf = pd.DataFrame({'Metric': list(final_model.feature_names_in_), 'Importance':list(final_model.best_estimator_.feature_importances_)})"
   ]
  },
  {
   "cell_type": "code",
   "execution_count": 29,
   "id": "2b854672",
   "metadata": {
    "ExecuteTime": {
     "end_time": "2022-08-06T06:46:13.774916Z",
     "start_time": "2022-08-06T06:46:13.317500Z"
    }
   },
   "outputs": [
    {
     "data": {
      "text/plain": [
       "<AxesSubplot:title={'center':'Feature Importance'}, ylabel='Metric'>"
      ]
     },
     "execution_count": 29,
     "metadata": {},
     "output_type": "execute_result"
    },
    {
     "data": {
      "image/png": "[encoded data removed]",
      "text/plain": [
       "<Figure size 1600x2400 with 1 Axes>"
      ]
     },
     "metadata": {},
     "output_type": "display_data"
    }
   ],
   "source": [
    "featuerImpDf.sort_values(['Importance']).plot.barh(x='Metric', y='Importance', figsize=(20, 30),  color = '#FFC000', title = 'Feature Importance')"
   ]
  },
  {
   "cell_type": "code",
   "execution_count": 30,
   "id": "565cf515",
   "metadata": {
    "ExecuteTime": {
     "end_time": "2022-08-06T06:47:03.652191Z",
     "start_time": "2022-08-06T06:47:03.630945Z"
    }
   },
   "outputs": [
    {
     "data": {
      "text/html": [
       "<div>\n",
       "<style scoped>\n",
       "    .dataframe tbody tr th:only-of-type {\n",
       "        vertical-align: middle;\n",
       "    }\n",
       "\n",
       "    .dataframe tbody tr th {\n",
       "        vertical-align: top;\n",
       "    }\n",
       "\n",
       "    .dataframe thead th {\n",
       "        text-align: right;\n",
       "    }\n",
       "</style>\n",
       "<table border=\"1\" class=\"dataframe\">\n",
       "  <thead>\n",
       "    <tr style=\"text-align: right;\">\n",
       "      <th></th>\n",
       "      <th>Metric</th>\n",
       "      <th>Importance</th>\n",
       "    </tr>\n",
       "  </thead>\n",
       "  <tbody>\n",
       "    <tr>\n",
       "      <th>0</th>\n",
       "      <td>age</td>\n",
       "      <td>0.078571</td>\n",
       "    </tr>\n",
       "    <tr>\n",
       "      <th>1</th>\n",
       "      <td>balance</td>\n",
       "      <td>0.157143</td>\n",
       "    </tr>\n",
       "    <tr>\n",
       "      <th>2</th>\n",
       "      <td>day</td>\n",
       "      <td>0.100000</td>\n",
       "    </tr>\n",
       "    <tr>\n",
       "      <th>3</th>\n",
       "      <td>duration</td>\n",
       "      <td>0.378571</td>\n",
       "    </tr>\n",
       "    <tr>\n",
       "      <th>4</th>\n",
       "      <td>campaign</td>\n",
       "      <td>0.042857</td>\n",
       "    </tr>\n",
       "    <tr>\n",
       "      <th>5</th>\n",
       "      <td>pdays</td>\n",
       "      <td>0.071429</td>\n",
       "    </tr>\n",
       "    <tr>\n",
       "      <th>6</th>\n",
       "      <td>previous</td>\n",
       "      <td>0.007143</td>\n",
       "    </tr>\n",
       "    <tr>\n",
       "      <th>7</th>\n",
       "      <td>job_admin.</td>\n",
       "      <td>0.007143</td>\n",
       "    </tr>\n",
       "    <tr>\n",
       "      <th>8</th>\n",
       "      <td>job_blue-collar</td>\n",
       "      <td>0.000000</td>\n",
       "    </tr>\n",
       "    <tr>\n",
       "      <th>9</th>\n",
       "      <td>job_entrepreneur</td>\n",
       "      <td>0.000000</td>\n",
       "    </tr>\n",
       "    <tr>\n",
       "      <th>10</th>\n",
       "      <td>job_housemaid</td>\n",
       "      <td>0.000000</td>\n",
       "    </tr>\n",
       "    <tr>\n",
       "      <th>11</th>\n",
       "      <td>job_management</td>\n",
       "      <td>0.000000</td>\n",
       "    </tr>\n",
       "    <tr>\n",
       "      <th>12</th>\n",
       "      <td>job_retired</td>\n",
       "      <td>0.000000</td>\n",
       "    </tr>\n",
       "    <tr>\n",
       "      <th>13</th>\n",
       "      <td>job_self-employed</td>\n",
       "      <td>0.000000</td>\n",
       "    </tr>\n",
       "    <tr>\n",
       "      <th>14</th>\n",
       "      <td>job_services</td>\n",
       "      <td>0.000000</td>\n",
       "    </tr>\n",
       "    <tr>\n",
       "      <th>15</th>\n",
       "      <td>job_student</td>\n",
       "      <td>0.007143</td>\n",
       "    </tr>\n",
       "    <tr>\n",
       "      <th>16</th>\n",
       "      <td>job_technician</td>\n",
       "      <td>0.007143</td>\n",
       "    </tr>\n",
       "    <tr>\n",
       "      <th>17</th>\n",
       "      <td>job_unemployed</td>\n",
       "      <td>0.007143</td>\n",
       "    </tr>\n",
       "    <tr>\n",
       "      <th>18</th>\n",
       "      <td>job_unknown</td>\n",
       "      <td>0.000000</td>\n",
       "    </tr>\n",
       "    <tr>\n",
       "      <th>19</th>\n",
       "      <td>marital_divorced</td>\n",
       "      <td>0.007143</td>\n",
       "    </tr>\n",
       "    <tr>\n",
       "      <th>20</th>\n",
       "      <td>marital_married</td>\n",
       "      <td>0.000000</td>\n",
       "    </tr>\n",
       "    <tr>\n",
       "      <th>21</th>\n",
       "      <td>marital_single</td>\n",
       "      <td>0.014286</td>\n",
       "    </tr>\n",
       "    <tr>\n",
       "      <th>22</th>\n",
       "      <td>education_primary</td>\n",
       "      <td>0.007143</td>\n",
       "    </tr>\n",
       "    <tr>\n",
       "      <th>23</th>\n",
       "      <td>education_secondary</td>\n",
       "      <td>0.000000</td>\n",
       "    </tr>\n",
       "    <tr>\n",
       "      <th>24</th>\n",
       "      <td>education_tertiary</td>\n",
       "      <td>0.007143</td>\n",
       "    </tr>\n",
       "    <tr>\n",
       "      <th>25</th>\n",
       "      <td>education_unknown</td>\n",
       "      <td>0.000000</td>\n",
       "    </tr>\n",
       "    <tr>\n",
       "      <th>26</th>\n",
       "      <td>default_no</td>\n",
       "      <td>0.000000</td>\n",
       "    </tr>\n",
       "    <tr>\n",
       "      <th>27</th>\n",
       "      <td>default_yes</td>\n",
       "      <td>0.000000</td>\n",
       "    </tr>\n",
       "    <tr>\n",
       "      <th>28</th>\n",
       "      <td>housing_no</td>\n",
       "      <td>0.021429</td>\n",
       "    </tr>\n",
       "    <tr>\n",
       "      <th>29</th>\n",
       "      <td>housing_yes</td>\n",
       "      <td>0.000000</td>\n",
       "    </tr>\n",
       "    <tr>\n",
       "      <th>30</th>\n",
       "      <td>loan_no</td>\n",
       "      <td>0.007143</td>\n",
       "    </tr>\n",
       "    <tr>\n",
       "      <th>31</th>\n",
       "      <td>loan_yes</td>\n",
       "      <td>0.000000</td>\n",
       "    </tr>\n",
       "    <tr>\n",
       "      <th>32</th>\n",
       "      <td>contact_cellular</td>\n",
       "      <td>0.021429</td>\n",
       "    </tr>\n",
       "    <tr>\n",
       "      <th>33</th>\n",
       "      <td>contact_telephone</td>\n",
       "      <td>0.014286</td>\n",
       "    </tr>\n",
       "    <tr>\n",
       "      <th>34</th>\n",
       "      <td>poutcome_failure</td>\n",
       "      <td>0.007143</td>\n",
       "    </tr>\n",
       "    <tr>\n",
       "      <th>35</th>\n",
       "      <td>poutcome_other</td>\n",
       "      <td>0.007143</td>\n",
       "    </tr>\n",
       "    <tr>\n",
       "      <th>36</th>\n",
       "      <td>poutcome_success</td>\n",
       "      <td>0.021429</td>\n",
       "    </tr>\n",
       "    <tr>\n",
       "      <th>37</th>\n",
       "      <td>poutcome_unknown</td>\n",
       "      <td>0.000000</td>\n",
       "    </tr>\n",
       "  </tbody>\n",
       "</table>\n",
       "</div>"
      ],
      "text/plain": [
       "                 Metric  Importance\n",
       "0                   age    0.078571\n",
       "1               balance    0.157143\n",
       "2                   day    0.100000\n",
       "3              duration    0.378571\n",
       "4              campaign    0.042857\n",
       "5                 pdays    0.071429\n",
       "6              previous    0.007143\n",
       "7            job_admin.    0.007143\n",
       "8       job_blue-collar    0.000000\n",
       "9      job_entrepreneur    0.000000\n",
       "10        job_housemaid    0.000000\n",
       "11       job_management    0.000000\n",
       "12          job_retired    0.000000\n",
       "13    job_self-employed    0.000000\n",
       "14         job_services    0.000000\n",
       "15          job_student    0.007143\n",
       "16       job_technician    0.007143\n",
       "17       job_unemployed    0.007143\n",
       "18          job_unknown    0.000000\n",
       "19     marital_divorced    0.007143\n",
       "20      marital_married    0.000000\n",
       "21       marital_single    0.014286\n",
       "22    education_primary    0.007143\n",
       "23  education_secondary    0.000000\n",
       "24   education_tertiary    0.007143\n",
       "25    education_unknown    0.000000\n",
       "26           default_no    0.000000\n",
       "27          default_yes    0.000000\n",
       "28           housing_no    0.021429\n",
       "29          housing_yes    0.000000\n",
       "30              loan_no    0.007143\n",
       "31             loan_yes    0.000000\n",
       "32     contact_cellular    0.021429\n",
       "33    contact_telephone    0.014286\n",
       "34     poutcome_failure    0.007143\n",
       "35       poutcome_other    0.007143\n",
       "36     poutcome_success    0.021429\n",
       "37     poutcome_unknown    0.000000"
      ]
     },
     "metadata": {},
     "output_type": "display_data"
    }
   ],
   "source": [
    "display(featuerImpDf)"
   ]
  },
  {
   "cell_type": "markdown",
   "id": "9c2cfc1b",
   "metadata": {},
   "source": [
    "### Model comparsion"
   ]
  },
  {
   "cell_type": "code",
   "execution_count": 31,
   "id": "c871c7d4",
   "metadata": {
    "ExecuteTime": {
     "end_time": "2022-08-06T07:04:24.690243Z",
     "start_time": "2022-08-06T07:04:24.684259Z"
    }
   },
   "outputs": [],
   "source": [
    "import sys\n",
    "import os\n",
    "import pickle\n",
    "from sklearn.metrics import confusion_matrix, precision_score, recall_score, f1_score, auc, roc_curve, accuracy_score"
   ]
  },
  {
   "cell_type": "code",
   "execution_count": 32,
   "id": "30d21363",
   "metadata": {
    "ExecuteTime": {
     "end_time": "2022-08-06T07:04:25.558193Z",
     "start_time": "2022-08-06T07:04:25.550215Z"
    }
   },
   "outputs": [],
   "source": [
    "modelsList = os.listdir('../models')"
   ]
  },
  {
   "cell_type": "code",
   "execution_count": 33,
   "id": "70840d41",
   "metadata": {
    "ExecuteTime": {
     "end_time": "2022-08-06T07:14:00.326689Z",
     "start_time": "2022-08-06T07:04:26.096025Z"
    }
   },
   "outputs": [
    {
     "name": "stderr",
     "output_type": "stream",
     "text": [
      "C:\\Users\\Mohan\\AppData\\Local\\Temp\\ipykernel_10800\\3816291841.py:18: FutureWarning: The frame.append method is deprecated and will be removed from pandas in a future version. Use pandas.concat instead.\n",
      "  resultsDf = resultsDf.append(pd.DataFrame([resDict]))\n",
      "C:\\Users\\Mohan\\AppData\\Local\\Temp\\ipykernel_10800\\3816291841.py:30: FutureWarning: The frame.append method is deprecated and will be removed from pandas in a future version. Use pandas.concat instead.\n",
      "  resultsDf = resultsDf.append(pd.DataFrame([resDict]))\n",
      "C:\\Users\\Mohan\\AppData\\Local\\Temp\\ipykernel_10800\\3816291841.py:18: FutureWarning: The frame.append method is deprecated and will be removed from pandas in a future version. Use pandas.concat instead.\n",
      "  resultsDf = resultsDf.append(pd.DataFrame([resDict]))\n",
      "C:\\Users\\Mohan\\AppData\\Local\\Temp\\ipykernel_10800\\3816291841.py:30: FutureWarning: The frame.append method is deprecated and will be removed from pandas in a future version. Use pandas.concat instead.\n",
      "  resultsDf = resultsDf.append(pd.DataFrame([resDict]))\n",
      "C:\\Users\\Mohan\\AppData\\Local\\Temp\\ipykernel_10800\\3816291841.py:18: FutureWarning: The frame.append method is deprecated and will be removed from pandas in a future version. Use pandas.concat instead.\n",
      "  resultsDf = resultsDf.append(pd.DataFrame([resDict]))\n",
      "C:\\Users\\Mohan\\AppData\\Local\\Temp\\ipykernel_10800\\3816291841.py:30: FutureWarning: The frame.append method is deprecated and will be removed from pandas in a future version. Use pandas.concat instead.\n",
      "  resultsDf = resultsDf.append(pd.DataFrame([resDict]))\n",
      "C:\\Users\\Mohan\\AppData\\Local\\Temp\\ipykernel_10800\\3816291841.py:18: FutureWarning: The frame.append method is deprecated and will be removed from pandas in a future version. Use pandas.concat instead.\n",
      "  resultsDf = resultsDf.append(pd.DataFrame([resDict]))\n",
      "C:\\Users\\Mohan\\AppData\\Local\\Temp\\ipykernel_10800\\3816291841.py:30: FutureWarning: The frame.append method is deprecated and will be removed from pandas in a future version. Use pandas.concat instead.\n",
      "  resultsDf = resultsDf.append(pd.DataFrame([resDict]))\n",
      "C:\\Users\\Mohan\\AppData\\Local\\Temp\\ipykernel_10800\\3816291841.py:18: FutureWarning: The frame.append method is deprecated and will be removed from pandas in a future version. Use pandas.concat instead.\n",
      "  resultsDf = resultsDf.append(pd.DataFrame([resDict]))\n",
      "C:\\Users\\Mohan\\AppData\\Local\\Temp\\ipykernel_10800\\3816291841.py:30: FutureWarning: The frame.append method is deprecated and will be removed from pandas in a future version. Use pandas.concat instead.\n",
      "  resultsDf = resultsDf.append(pd.DataFrame([resDict]))\n",
      "C:\\Users\\Mohan\\AppData\\Local\\Temp\\ipykernel_10800\\3816291841.py:18: FutureWarning: The frame.append method is deprecated and will be removed from pandas in a future version. Use pandas.concat instead.\n",
      "  resultsDf = resultsDf.append(pd.DataFrame([resDict]))\n",
      "C:\\Users\\Mohan\\AppData\\Local\\Temp\\ipykernel_10800\\3816291841.py:30: FutureWarning: The frame.append method is deprecated and will be removed from pandas in a future version. Use pandas.concat instead.\n",
      "  resultsDf = resultsDf.append(pd.DataFrame([resDict]))\n",
      "C:\\Users\\Mohan\\AppData\\Local\\Temp\\ipykernel_10800\\3816291841.py:18: FutureWarning: The frame.append method is deprecated and will be removed from pandas in a future version. Use pandas.concat instead.\n",
      "  resultsDf = resultsDf.append(pd.DataFrame([resDict]))\n",
      "C:\\Users\\Mohan\\AppData\\Local\\Temp\\ipykernel_10800\\3816291841.py:30: FutureWarning: The frame.append method is deprecated and will be removed from pandas in a future version. Use pandas.concat instead.\n",
      "  resultsDf = resultsDf.append(pd.DataFrame([resDict]))\n",
      "C:\\Users\\Mohan\\AppData\\Local\\Temp\\ipykernel_10800\\3816291841.py:18: FutureWarning: The frame.append method is deprecated and will be removed from pandas in a future version. Use pandas.concat instead.\n",
      "  resultsDf = resultsDf.append(pd.DataFrame([resDict]))\n",
      "C:\\Users\\Mohan\\AppData\\Local\\Temp\\ipykernel_10800\\3816291841.py:30: FutureWarning: The frame.append method is deprecated and will be removed from pandas in a future version. Use pandas.concat instead.\n",
      "  resultsDf = resultsDf.append(pd.DataFrame([resDict]))\n",
      "C:\\Users\\Mohan\\AppData\\Local\\Temp\\ipykernel_10800\\3816291841.py:18: FutureWarning: The frame.append method is deprecated and will be removed from pandas in a future version. Use pandas.concat instead.\n",
      "  resultsDf = resultsDf.append(pd.DataFrame([resDict]))\n",
      "C:\\Users\\Mohan\\AppData\\Local\\Temp\\ipykernel_10800\\3816291841.py:30: FutureWarning: The frame.append method is deprecated and will be removed from pandas in a future version. Use pandas.concat instead.\n",
      "  resultsDf = resultsDf.append(pd.DataFrame([resDict]))\n",
      "C:\\Users\\Mohan\\AppData\\Local\\Temp\\ipykernel_10800\\3816291841.py:18: FutureWarning: The frame.append method is deprecated and will be removed from pandas in a future version. Use pandas.concat instead.\n",
      "  resultsDf = resultsDf.append(pd.DataFrame([resDict]))\n",
      "C:\\Users\\Mohan\\AppData\\Local\\Temp\\ipykernel_10800\\3816291841.py:30: FutureWarning: The frame.append method is deprecated and will be removed from pandas in a future version. Use pandas.concat instead.\n",
      "  resultsDf = resultsDf.append(pd.DataFrame([resDict]))\n",
      "C:\\Users\\Mohan\\AppData\\Local\\Temp\\ipykernel_10800\\3816291841.py:18: FutureWarning: The frame.append method is deprecated and will be removed from pandas in a future version. Use pandas.concat instead.\n",
      "  resultsDf = resultsDf.append(pd.DataFrame([resDict]))\n",
      "C:\\Users\\Mohan\\AppData\\Local\\Temp\\ipykernel_10800\\3816291841.py:30: FutureWarning: The frame.append method is deprecated and will be removed from pandas in a future version. Use pandas.concat instead.\n",
      "  resultsDf = resultsDf.append(pd.DataFrame([resDict]))\n"
     ]
    }
   ],
   "source": [
    "resultsDf = pd.DataFrame()\n",
    "\n",
    "for i in modelsList:\n",
    "    resDict = {}\n",
    "    model = pickle.load(open('../models/'+i, 'rb'))\n",
    "    \n",
    "    ## Model stats without oversampling\n",
    "    if modelsList[0].find('wo') == -1: \n",
    "        ## Train metrics\n",
    "        resDict['model'] = i\n",
    "        resDict['scenario'] = 'Train'\n",
    "        resDict['precision'] = precision_score(y_train, model.predict(X_train))\n",
    "        resDict['accuracy'] = accuracy_score(y_train, model.predict(X_train))\n",
    "        resDict['recall'] = recall_score(y_train, model.predict(X_train))\n",
    "        resDict['f1Score'] = f1_score(y_train, model.predict(X_train))\n",
    "        fpr, tpr, thresholds = roc_curve(y_train, model.predict(X_train), pos_label=1)\n",
    "        resDict['auc'] = auc(fpr, tpr)\n",
    "        resultsDf = resultsDf.append(pd.DataFrame([resDict]))\n",
    "\n",
    "        ## Test metrics\n",
    "        resDict['model'] = i\n",
    "        resDict['scenario'] = 'Test'\n",
    "        resDict['precision'] = precision_score(y_test, model.predict(X_test))\n",
    "        resDict['accuracy'] = accuracy_score(y_test, model.predict(X_test))\n",
    "        resDict['recall'] = recall_score(y_test, model.predict(X_test))\n",
    "        resDict['f1Score'] = f1_score(y_test, model.predict(X_test))\n",
    "        fpr, tpr, thresholds = roc_curve(y_test, model.predict(X_test), pos_label=1)\n",
    "        resDict['auc'] = auc(fpr, tpr)\n",
    "        \n",
    "        resultsDf = resultsDf.append(pd.DataFrame([resDict]))\n",
    "        \n",
    "    ## Model stats with oversampling\n",
    "    else:\n",
    "        ## Train metrics\n",
    "        resDict['model'] = i\n",
    "        resDict['scenario'] = 'Train'\n",
    "        resDict['precision'] = precision_score(y_over, model.predict(X_over))\n",
    "        resDict['accuracy'] = accuracy_score(y_over, model.predict(X_over))\n",
    "        resDict['recall'] = recall_score(y_over, model.predict(X_over))\n",
    "        resDict['f1Score'] = f1_score(y_over, model.predict(X_over))\n",
    "        fpr, tpr, thresholds = roc_curve(y_over, model.predict(X_over), pos_label=1)\n",
    "        resDict['auc'] = auc(fpr, tpr)\n",
    "        resultsDf = resultsDf.append(pd.DataFrame([resDict]))\n",
    "\n",
    "        ## Test metrics\n",
    "        resDict['model'] = i\n",
    "        resDict['scenario'] = 'Test'\n",
    "        resDict['precision'] = precision_score(y_test, model.predict(X_test))\n",
    "        resDict['accuracy'] = accuracy_score(y_test, model.predict(X_test))\n",
    "        resDict['recall'] = recall_score(y_test, model.predict(X_test))\n",
    "        resDict['f1Score'] = f1_score(y_test, model.predict(X_test))\n",
    "        fpr, tpr, thresholds = roc_curve(y_test, model.predict(X_test), pos_label=1)\n",
    "        resDict['auc'] = auc(fpr, tpr)\n",
    "        \n",
    "        resultsDf = resultsDf.append(pd.DataFrame([resDict]))"
   ]
  },
  {
   "cell_type": "code",
   "execution_count": 34,
   "id": "6ff054bf",
   "metadata": {
    "ExecuteTime": {
     "end_time": "2022-08-06T07:14:00.357606Z",
     "start_time": "2022-08-06T07:14:00.329681Z"
    }
   },
   "outputs": [
    {
     "data": {
      "text/html": [
       "<div>\n",
       "<style scoped>\n",
       "    .dataframe tbody tr th:only-of-type {\n",
       "        vertical-align: middle;\n",
       "    }\n",
       "\n",
       "    .dataframe tbody tr th {\n",
       "        vertical-align: top;\n",
       "    }\n",
       "\n",
       "    .dataframe thead th {\n",
       "        text-align: right;\n",
       "    }\n",
       "</style>\n",
       "<table border=\"1\" class=\"dataframe\">\n",
       "  <thead>\n",
       "    <tr style=\"text-align: right;\">\n",
       "      <th></th>\n",
       "      <th>model</th>\n",
       "      <th>scenario</th>\n",
       "      <th>precision</th>\n",
       "      <th>accuracy</th>\n",
       "      <th>recall</th>\n",
       "      <th>f1Score</th>\n",
       "      <th>auc</th>\n",
       "    </tr>\n",
       "  </thead>\n",
       "  <tbody>\n",
       "    <tr>\n",
       "      <th>0</th>\n",
       "      <td>adaboost_w_oversampling.sav</td>\n",
       "      <td>Train</td>\n",
       "      <td>0.576602</td>\n",
       "      <td>0.900142</td>\n",
       "      <td>0.525915</td>\n",
       "      <td>0.550093</td>\n",
       "      <td>0.737600</td>\n",
       "    </tr>\n",
       "    <tr>\n",
       "      <th>0</th>\n",
       "      <td>adaboost_w_oversampling.sav</td>\n",
       "      <td>Test</td>\n",
       "      <td>0.568275</td>\n",
       "      <td>0.895072</td>\n",
       "      <td>0.513673</td>\n",
       "      <td>0.539596</td>\n",
       "      <td>0.730304</td>\n",
       "    </tr>\n",
       "    <tr>\n",
       "      <th>0</th>\n",
       "      <td>decisiontree_w_oversampling.sav</td>\n",
       "      <td>Train</td>\n",
       "      <td>0.786465</td>\n",
       "      <td>0.953079</td>\n",
       "      <td>0.817835</td>\n",
       "      <td>0.801843</td>\n",
       "      <td>0.894337</td>\n",
       "    </tr>\n",
       "    <tr>\n",
       "      <th>0</th>\n",
       "      <td>decisiontree_w_oversampling.sav</td>\n",
       "      <td>Test</td>\n",
       "      <td>0.449327</td>\n",
       "      <td>0.867646</td>\n",
       "      <td>0.468588</td>\n",
       "      <td>0.458755</td>\n",
       "      <td>0.695249</td>\n",
       "    </tr>\n",
       "    <tr>\n",
       "      <th>0</th>\n",
       "      <td>decision_tree_wo_oversampling.sav</td>\n",
       "      <td>Train</td>\n",
       "      <td>0.695618</td>\n",
       "      <td>0.913678</td>\n",
       "      <td>0.455793</td>\n",
       "      <td>0.550729</td>\n",
       "      <td>0.714801</td>\n",
       "    </tr>\n",
       "  </tbody>\n",
       "</table>\n",
       "</div>"
      ],
      "text/plain": [
       "                               model scenario  precision  accuracy    recall  \\\n",
       "0        adaboost_w_oversampling.sav    Train   0.576602  0.900142  0.525915   \n",
       "0        adaboost_w_oversampling.sav     Test   0.568275  0.895072  0.513673   \n",
       "0    decisiontree_w_oversampling.sav    Train   0.786465  0.953079  0.817835   \n",
       "0    decisiontree_w_oversampling.sav     Test   0.449327  0.867646  0.468588   \n",
       "0  decision_tree_wo_oversampling.sav    Train   0.695618  0.913678  0.455793   \n",
       "\n",
       "    f1Score       auc  \n",
       "0  0.550093  0.737600  \n",
       "0  0.539596  0.730304  \n",
       "0  0.801843  0.894337  \n",
       "0  0.458755  0.695249  \n",
       "0  0.550729  0.714801  "
      ]
     },
     "execution_count": 34,
     "metadata": {},
     "output_type": "execute_result"
    }
   ],
   "source": [
    "resultsDf.head()"
   ]
  },
  {
   "cell_type": "code",
   "execution_count": 46,
   "id": "ae1e9bb6",
   "metadata": {},
   "outputs": [],
   "source": [
    "resultsDf.to_excel('../output/modeling_results.xlsx')"
   ]
  },
  {
   "cell_type": "code",
   "execution_count": null,
   "id": "f17606d8",
   "metadata": {},
   "outputs": [],
   "source": []
  },
  {
   "cell_type": "code",
   "execution_count": null,
   "id": "6243a517",
   "metadata": {},
   "outputs": [],
   "source": []
  },
  {
   "cell_type": "code",
   "execution_count": null,
   "id": "a1f5740f",
   "metadata": {},
   "outputs": [],
   "source": [
    "## Exlcuding month field though it is showing good value from modeling perspective (eleminating as month field is not actionable fr business)"
   ]
  }
 ],
 "metadata": {
  "kernelspec": {
   "display_name": "Python 3 (ipykernel)",
   "language": "python",
   "name": "python3"
  },
  "language_info": {
   "codemirror_mode": {
    "name": "ipython",
    "version": 3
   },
   "file_extension": ".py",
   "mimetype": "text/x-python",
   "name": "python",
   "nbconvert_exporter": "python",
   "pygments_lexer": "ipython3",
   "version": "3.9.12"
  }
 },
 "nbformat": 4,
 "nbformat_minor": 5
}
